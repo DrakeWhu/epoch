{
 "cells": [
  {
   "cell_type": "code",
   "execution_count": 2,
   "metadata": {},
   "outputs": [],
   "source": [
    "import numpy as np\n",
    "import pandas as pd\n",
    "import scipy.constants\n",
    "import math"
   ]
  },
  {
   "cell_type": "code",
   "execution_count": null,
   "metadata": {},
   "outputs": [],
   "source": [
    "c = scipy.constants.c\n",
    "npart = 1000\n",
    "nx = 1500\n",
    "dx = 0.04*10^(-6) # 0.04 micrometros\n",
    "Lx = nx*dx\n",
    "sigma_x = 1.9*10^(-6)\n",
    "sigma_y = 2*10^(-6)\n",
    "laser_fwhm = 25.5 * (2)^(1/2) * 10^(-15)\n",
    "delay_behind_laser = 18.5*10^(-6)\n",
    "center_laser = Lx - 1.7*laser_fwhm\n",
    "center_bunch = center_laser - delay_behind_laser\n",
    "Q_bunch = -20*10^(-12)\n",
    "Q_part = Q_bunch/npart\n",
    "weight = Q_part/((c/omega0)**3*ncrit*normalized_species_charge)\n",
    "\n",
    "array_position = np.zeros((3,npart)) # posiciones x, y, peso w\n",
    "array_momentum = np.zeros((2,npart)) # momentos px, py\n",
    "\n",
    "array_position[0,:] = np.random.normal(loc=center_bunch, scale=sigma_x, size=npart)\n",
    "array_position[1,:] = np.random.normal(loc=0, scale=sigma_y, size=npart)\n",
    "array_position[2,:] = np.multiply(np.ones(npart), weight) "
   ]
  }
 ],
 "metadata": {
  "kernelspec": {
   "display_name": "Python 3.10.9 64-bit",
   "language": "python",
   "name": "python3"
  },
  "language_info": {
   "codemirror_mode": {
    "name": "ipython",
    "version": 3
   },
   "file_extension": ".py",
   "mimetype": "text/x-python",
   "name": "python",
   "nbconvert_exporter": "python",
   "pygments_lexer": "ipython3",
   "version": "3.10.9"
  },
  "orig_nbformat": 4,
  "vscode": {
   "interpreter": {
    "hash": "e7370f93d1d0cde622a1f8e1c04877d8463912d04d973331ad4851f04de6915a"
   }
  }
 },
 "nbformat": 4,
 "nbformat_minor": 2
}
